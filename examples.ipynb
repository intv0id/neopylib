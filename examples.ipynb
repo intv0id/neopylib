{
 "cells": [
  {
   "cell_type": "code",
   "execution_count": 11,
   "metadata": {},
   "outputs": [],
   "source": [
    "from neopylib.GraphEntities import Node, Edge, Pattern\n",
    "from neopylib.Matching import NeoMatcher"
   ]
  },
  {
   "cell_type": "code",
   "execution_count": 12,
   "metadata": {},
   "outputs": [],
   "source": [
    "person = Node(labels={\"AccountHolder\"})\n",
    "address = Node(labels={\"Address\"}, properties={\"Street\":\"123 NW 1st Street\"})\n",
    "\n",
    "address_relation = Edge(node1=a, node2=b, directed=True, relationship_type=\"HAS_ADDRESS\")\n",
    "\n",
    "cond1 = person[\"LastName\"] == \"Doe\"\n",
    "cond2 = person[\"FirstName\"] == \"John\"\n",
    "cond3 = person[\"LastName\"] == \"Smith\"\n",
    "\n",
    "all_nodes = {person, address}\n",
    "all_edges = {address_relation}\n",
    "pattern = Pattern(all_nodes, all_edges)"
   ]
  },
  {
   "cell_type": "code",
   "execution_count": 13,
   "metadata": {},
   "outputs": [
    {
     "name": "stdout",
     "output_type": "stream",
     "text": [
      "MATCH (a:AccountHolder)-[c:HAS_ADDRESS]->(b:Address{Street:\"123 NW 1st Street\"}) \n",
      "WHERE (a.LastName = \"Doe\") AND ((a.FirstName = \"John\") OR (a.LastName = \"Smith\")) \n",
      "RETURN a, b;\n"
     ]
    }
   ],
   "source": [
    "return_nodes = all_nodes\n",
    "condition = cond1 & (cond2 | cond3)\n",
    "\n",
    "print(NeoMatcher.parse(pattern, return_nodes, condition))"
   ]
  },
  {
   "cell_type": "code",
   "execution_count": 14,
   "metadata": {},
   "outputs": [
    {
     "name": "stdout",
     "output_type": "stream",
     "text": [
      "MATCH (a:AccountHolder)-[c:HAS_ADDRESS]->(b:Address{Street:\"123 NW 1st Street\"}) \n",
      "WHERE ((a.LastName = \"Doe\") AND (a.FirstName = \"John\")) OR (a.LastName = \"Smith\") \n",
      "RETURN a, b;\n"
     ]
    }
   ],
   "source": [
    "return_nodes = all_nodes\n",
    "condition = cond1 & cond2 | cond3\n",
    "\n",
    "print(NeoMatcher.parse(pattern, return_nodes, condition))"
   ]
  },
  {
   "cell_type": "code",
   "execution_count": null,
   "metadata": {},
   "outputs": [],
   "source": []
  }
 ],
 "metadata": {
  "kernelspec": {
   "display_name": "Python 3",
   "language": "python",
   "name": "python3"
  },
  "language_info": {
   "codemirror_mode": {
    "name": "ipython",
    "version": 3
   },
   "file_extension": ".py",
   "mimetype": "text/x-python",
   "name": "python",
   "nbconvert_exporter": "python",
   "pygments_lexer": "ipython3",
   "version": "3.7.2"
  }
 },
 "nbformat": 4,
 "nbformat_minor": 2
}
